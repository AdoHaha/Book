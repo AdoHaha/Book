{
 "cells": [
  {
   "cell_type": "markdown",
   "metadata": {},
   "source": [
    "### Using IPython Interactive Widgets to control a robot\n",
    "\n",
    "In this notebook you will learn how to use interactive widgets to control a robot. First a simulated one than our ESPBOt.\n",
    "\n",
    "For simulated one we will use turtlesim simulator where we can swim a virtual turtle by sending him _twist_ messgess. To simplify, everyone will run his own simulator, on his local roscore server.\n",
    "\n"
   ]
  },
  {
   "cell_type": "code",
   "execution_count": 1,
   "metadata": {},
   "outputs": [
    {
     "name": "stdout",
     "output_type": "stream",
     "text": [
      "env: ROS_MASTER_URI=http://localhost:11311\n"
     ]
    }
   ],
   "source": [
    "%env ROS_MASTER_URI=http://localhost:11311\n",
    "import rospy\n",
    "import roslaunch\n",
    "import rosnode\n",
    "\n"
   ]
  },
  {
   "cell_type": "markdown",
   "metadata": {},
   "source": [
    "We will start a turtlesim node using rosrun command and use ampersand sign at the end so that simulation will not block our notebook."
   ]
  },
  {
   "cell_type": "code",
   "execution_count": 8,
   "metadata": {},
   "outputs": [
    {
     "data": {
      "text/plain": [
       "0"
      ]
     },
     "execution_count": 8,
     "metadata": {},
     "output_type": "execute_result"
    }
   ],
   "source": [
    "import os\n",
    "os.system(\"rosrun turtlesim turtlesim_node &\")"
   ]
  },
  {
   "cell_type": "markdown",
   "metadata": {},
   "source": [
    "You should see a turtle swimming in the sea. I suggest that you rightlick on the turtlesim window bar and set \"always on top\". In this way you can see what is going on when you publish some messages. \n",
    "\n",
    "\n",
    "**Now Use rosnode_info to see what it can do. ** (its name is turtlesim_node)"
   ]
  },
  {
   "cell_type": "code",
   "execution_count": 42,
   "metadata": {
    "scrolled": true
   },
   "outputs": [
    {
     "name": "stdout",
     "output_type": "stream",
     "text": [
      "--------------------------------------------------------------------------------\n",
      "Node [/turtlesim]\n",
      "Publications: \n",
      " * /turtle1/color_sensor [turtlesim/Color]\n",
      " * /rosout [rosgraph_msgs/Log]\n",
      " * /turtle1/pose [turtlesim/Pose]\n",
      "\n",
      "Subscriptions: \n",
      " * /turtle1/cmd_vel [unknown type]\n",
      "\n",
      "Services: \n",
      " * /turtle1/teleport_absolute\n",
      " * /turtlesim/get_loggers\n",
      " * /turtlesim/set_logger_level\n",
      " * /reset\n",
      " * /spawn\n",
      " * /clear\n",
      " * /turtle1/set_pen\n",
      " * /turtle1/teleport_relative\n",
      " * /kill\n",
      "\n",
      "\n",
      "contacting node http://igor-laptop-linux:48498/ ...\n",
      "Pid: 21927\n",
      "Connections:\n",
      " * topic: /rosout\n",
      "    * to: /rosout\n",
      "    * direction: outbound\n",
      "    * transport: TCPROS\n",
      "\n"
     ]
    }
   ],
   "source": [
    "rosnode. ..."
   ]
  },
  {
   "cell_type": "markdown",
   "metadata": {},
   "source": [
    "You can see that there is plenty to do with the turtle.\n",
    "To change its position we need to use turtle1/cmd_vel topic\n"
   ]
  },
  {
   "cell_type": "code",
   "execution_count": 44,
   "metadata": {
    "collapsed": true
   },
   "outputs": [],
   "source": [
    "from geometry_msgs.msg import Twist\n"
   ]
  },
  {
   "cell_type": "markdown",
   "metadata": {},
   "source": [
    "We can check if the robot reacts to some twist message by setting up a publisher\n"
   ]
  },
  {
   "cell_type": "code",
   "execution_count": 48,
   "metadata": {
    "collapsed": true
   },
   "outputs": [],
   "source": [
    "rospy.init_node(\"franek\")\n",
    "\n",
    "twist_publisher= rospy.Publisher(\"/turtle1/cmd_vel\",Twist,queue_size=10)"
   ]
  },
  {
   "cell_type": "code",
   "execution_count": 84,
   "metadata": {
    "collapsed": true
   },
   "outputs": [],
   "source": [
    "### let's create some twist message\n",
    "some_message=Twist()\n",
    "some_message.angular.z=1\n",
    "some_message.linear.x=10\n",
    "\n",
    "twist_publisher.publish(some_message)"
   ]
  },
  {
   "cell_type": "markdown",
   "metadata": {},
   "source": [
    "Try setting some different values and looking what the turtle does. \n",
    "\n",
    "While it gives us some intuition on how the robot behaves, we need to rerun the IPython cell to understand the behaviour. There is a better way :)\n",
    "\n",
    "First let's define a function that modifies these 3 values in a message and then sends it\n",
    "\n"
   ]
  },
  {
   "cell_type": "code",
   "execution_count": 90,
   "metadata": {},
   "outputs": [
    {
     "data": {
      "application/vnd.jupyter.widget-view+json": {
       "model_id": "2aeb7825e10e4bbca33b056e9a6f84ad"
      }
     },
     "metadata": {},
     "output_type": "display_data"
    }
   ],
   "source": [
    "\n",
    "def move_turtle(x=5,z=5):\n",
    "    message=Twist()\n",
    "    message.angular.z=z\n",
    "    message.linear.x=x\n",
    "    \n",
    "    \n",
    "    twist_publisher.publish(message)"
   ]
  },
  {
   "cell_type": "markdown",
   "metadata": {},
   "source": [
    "We can now move the turtle using this function. The fun part comes when we use widgets.\n",
    "\n",
    "Let's put our function as an argument to a interact function from ipywidgets"
   ]
  },
  {
   "cell_type": "code",
   "execution_count": 92,
   "metadata": {},
   "outputs": [
    {
     "data": {
      "application/vnd.jupyter.widget-view+json": {
       "model_id": "eb6cfc9d57b9452ba189f96d3beb914e"
      }
     },
     "metadata": {},
     "output_type": "display_data"
    },
    {
     "data": {
      "text/plain": [
       "<function __main__.move_turtle>"
      ]
     },
     "execution_count": 92,
     "metadata": {},
     "output_type": "execute_result"
    }
   ],
   "source": [
    "ipywidgets.interact(move_turtle)"
   ]
  },
  {
   "cell_type": "markdown",
   "metadata": {},
   "source": [
    "When you run the code above, you should get an two interactive sliders, that allow you to control the turtle. \n",
    "The interact function guessed the right controllers because we put a default values for parameters of our function\n",
    "\n",
    "The interact function has many fun parameters to choose but in case of prototyping algorithms for robots we are mostly interested in couple of them\n"
   ]
  },
  {
   "cell_type": "code",
   "execution_count": 103,
   "metadata": {},
   "outputs": [
    {
     "data": {
      "application/vnd.jupyter.widget-view+json": {
       "model_id": "52b0773b69d14ab39e83be73c4dda925"
      }
     },
     "metadata": {},
     "output_type": "display_data"
    },
    {
     "data": {
      "text/plain": [
       "<function __main__.move_turtle>"
      ]
     },
     "execution_count": 103,
     "metadata": {},
     "output_type": "execute_result"
    }
   ],
   "source": [
    "ipywidgets.interact_manual(move_turtle,\n",
    "                    x=ipywidgets.FloatSlider(min=-10,max=10,step=2),\n",
    "                   y= ipywidgets.FloatSlider(min=-3,max=3))"
   ]
  },
  {
   "cell_type": "markdown",
   "metadata": {},
   "source": [
    "This is more complicated use of interact. We have explicetely stated types of values (floats) by using floatsliders\n",
    "and minumum and maximum values of these sliders. We have also used interact_manual which gives us additional button to \"send\" the values. Othervise, it would be sending the values on every change bigger than the step value for a particular slider. In case of many robot functions we want first to set some \"target\" and than to publish this target."
   ]
  },
  {
   "cell_type": "markdown",
   "metadata": {},
   "source": [
    "From now on we will be using our ESPBots to play with ROS. Our goal is learn how to control this robot in a easy way so that we can rapidly create some interesting scenarios for it. IPython's tools will help us get the interactive behaviour in the fastest way.\n",
    "\n",
    "\n",
    "Each of ESPBots has a servo -- a motor which position we can control directely and a light sensor which measures the amount of light that is received to it.\n",
    "\n",
    "\n",
    "As there are couple of ESPBots avalible, look how the one you are controlling is called as his topics are published in his **namespace**. My one is called BOT1 and he is subscribed to a topic. You can check the types of messages using the info from previous notebooks\n",
    "\n",
    "/BOT1/servo_pos\n",
    "\n",
    "/BOT1/mirror\n",
    "\n",
    "/BOT1/\n",
    "\n",
    "He publishes  values of its light sensor on \n",
    "\n",
    "/BOT1/sensor_val\n",
    "\n",
    "\n",
    "Your goal is to create an interactive slider to move the servo. Good luck :)"
   ]
  },
  {
   "cell_type": "code",
   "execution_count": null,
   "metadata": {
    "collapsed": true
   },
   "outputs": [],
   "source": []
  }
 ],
 "metadata": {
  "kernelspec": {
   "display_name": "Python 3",
   "language": "python",
   "name": "python3"
  },
  "language_info": {
   "codemirror_mode": {
    "name": "ipython",
    "version": 3
   },
   "file_extension": ".py",
   "mimetype": "text/x-python",
   "name": "python",
   "nbconvert_exporter": "python",
   "pygments_lexer": "ipython3",
   "version": "3.4.3"
  }
 },
 "nbformat": 4,
 "nbformat_minor": 2
}
