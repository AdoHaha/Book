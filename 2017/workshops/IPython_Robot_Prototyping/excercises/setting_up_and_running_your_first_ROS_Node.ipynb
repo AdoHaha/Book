{
 "cells": [
  {
   "cell_type": "markdown",
   "metadata": {},
   "source": [
    "## Setting up and running your first ROS Node\n",
    "\n",
    "In this first excercise you will connect your own program to ROS network. It will thus become a ROS **Node**. Basicly it means that **roscore** servers (Master, rosout, parameter server) know where it is (its hostname, IP address) and can help us connect to other nodes.\n",
    "\n",
    "Our **Master** server is a on computer with a *hostname* *igor_duzy* and is on 11311 port and we need to set this up before we can connect. A ROS_MASTER_URI environment variable needs to be set to http://masters_hostname:11311\n",
    "\n",
    "We can set this variable from inside of Ipython Notebook by using %env [line magic](http://ipython.readthedocs.io/en/stable/interactive/magics.html). Be aware, that this changes the variable value only for this particular notebook. If you want to change it globally I recomend adding a line to .bashrc file (i.e export ROS_MASTER_URI=http://masters_hostname:11311 ). \n",
    "\n"
   ]
  },
  {
   "cell_type": "code",
   "execution_count": 1,
   "metadata": {},
   "outputs": [
    {
     "name": "stdout",
     "output_type": "stream",
     "text": [
      "env: ROS_MASTER_URI=http://igor-duzy:11311\n"
     ]
    }
   ],
   "source": [
    "%env ROS_MASTER_URI=http://igor-duzy:11311"
   ]
  },
  {
   "cell_type": "markdown",
   "metadata": {},
   "source": [
    "If this is set up, and there is **roscore** server running at igor-duzy we will be able to see all nodes that are currentely connected. We can use one of ROS tools called rosnode. Note that this tool can also be run from any terminal (but with the right environment variables). "
   ]
  },
  {
   "cell_type": "code",
   "execution_count": 2,
   "metadata": {},
   "outputs": [
    {
     "name": "stdout",
     "output_type": "stream",
     "text": [
      "/cyberglove\r\n",
      "/cyberglove_tenth\r\n",
      "/glove_prediction_25906_1500983091162\r\n",
      "/glove_prediction_25989_1500983272009\r\n",
      "/glove_prediction_26151_1500983315169\r\n",
      "/glove_prediction_26233_1500983512731\r\n",
      "/glove_prediction_26454_1500983582302\r\n",
      "/glove_prediction_26780_1500983980535\r\n",
      "/glove_prediction_26958_1500984083566\r\n",
      "/rosout\r\n"
     ]
    }
   ],
   "source": [
    "!rosnode list"
   ]
  },
  {
   "cell_type": "markdown",
   "metadata": {},
   "source": [
    "\n",
    "\n",
    "You should see that there are already some nodes connected. Each is represented on a seperate line with its **graph resource name**. There are slashes at the beginning because you can actally have a whole hierarchy of nodes similar to how you have directories on your computer (something like that is common: robot1/vision_system/object_recogniser). \n",
    "\n",
    "So what is a ROS Node? Pretty much any program connected to a ROS Network. It can be on the same computer but it can also be connected via a network. Usually there are tens if not houndreds of such nodes.\n",
    "\n",
    "\n",
    "*(In case you see \"ERROR: Unable to communicate with master!\" you need to make sure that you have set up the correct address to ROS_MASTER_URI and there is roscore running there. Also, can you connect to this host at all? A good way to check is to use *ping* command i.e. ping igor-duzy. If there is a constant stream of responses, the computer is accessable. Othervise check the connection and firewall.)*"
   ]
  },
  {
   "cell_type": "markdown",
   "metadata": {},
   "source": [
    "### Our own node\n",
    "\n",
    "Ok, so lets create our own node. \n",
    "Two lines are needed. Change 'node_name' to something fancy -- it will be your node's graph resource name."
   ]
  },
  {
   "cell_type": "code",
   "execution_count": 3,
   "metadata": {},
   "outputs": [],
   "source": [
    "import rospy\n",
    "\n",
    "rospy.init_node(\"node_name\", anonymous=True)"
   ]
  },
  {
   "cell_type": "markdown",
   "metadata": {},
   "source": [
    "And that's it :) \n",
    "\n",
    "### Excercise: use **rosnode** command to check if your node is actually there\n",
    "\n"
   ]
  },
  {
   "cell_type": "code",
   "execution_count": null,
   "metadata": {},
   "outputs": [],
   "source": []
  },
  {
   "cell_type": "markdown",
   "metadata": {},
   "source": [
    "You should see your selected name among other names. But why there is a string of numbers after? This is because I was a bit pessimistics as to whether your fancy names would not be the same -- and as the name has to unique the anonymous parameter passed to init_node function creates a name that would be unique. \n",
    "\n",
    "Ok, so as we are connected we can start doing some stuff inside the ROS Network"
   ]
  }
 ],
 "metadata": {
  "kernelspec": {
   "display_name": "Python 3",
   "language": "python",
   "name": "python3"
  },
  "language_info": {
   "codemirror_mode": {
    "name": "ipython",
    "version": 3
   },
   "file_extension": ".py",
   "mimetype": "text/x-python",
   "name": "python",
   "nbconvert_exporter": "python",
   "pygments_lexer": "ipython3",
   "version": "3.5.2"
  }
 },
 "nbformat": 4,
 "nbformat_minor": 2
}
