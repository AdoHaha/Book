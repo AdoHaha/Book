{
 "cells": [
  {
   "cell_type": "markdown",
   "metadata": {},
   "source": [
    "## Setting up and running your first ROS Node\n",
    "\n",
    "In this first excercise you will connect your own program to ROS network. It will thus become a ROS **Node**. Basicly it means that **roscore** servers (Master, rosout, parameter server) know where it is (its hostname, IP address) and can help us connect to other nodes.\n",
    "\n",
    "Our **Master** server is a on computer with a *hostname* *igor_duzy* and is on 11311 port and we need to set this up before we can connect. A ROS_MASTER_URI environment variable needs to be set to http://masters_hostname:11311\n",
    "\n",
    "We can set this variable from inside of Ipython Notebook by using %env [line magic](http://ipython.readthedocs.io/en/stable/interactive/magics.html). Be aware, that this changes the variable value only for this particular notebook. If you want to change it globally I recomend adding a line to .bashrc file (i.e export ROS_MASTER_URI=http://masters_hostname:11311 ). \n",
    "\n"
   ]
  },
  {
   "cell_type": "code",
   "execution_count": 1,
   "metadata": {},
   "outputs": [
    {
     "name": "stdout",
     "output_type": "stream",
     "text": [
      "env: ROS_MASTER_URI=http://igor-duzy:11311\n"
     ]
    }
   ],
   "source": [
    "%env ROS_MASTER_URI=http://igor-duzy:11311"
   ]
  },
  {
   "cell_type": "code",
   "execution_count": null,
   "metadata": {
    "collapsed": true
   },
   "outputs": [],
   "source": []
  },
  {
   "cell_type": "markdown",
   "metadata": {},
   "source": [
    "If this is set up, and there is **roscore** server running at igor-duzy we will be able to see all nodes that are currentely connected. We can use one of ROS tools called rosnode. Note that this tool can also be run from any terminal (but with the right environment variables). "
   ]
  },
  {
   "cell_type": "code",
   "execution_count": 53,
   "metadata": {},
   "outputs": [
    {
     "name": "stdout",
     "output_type": "stream",
     "text": [
      "Node [/franek]\n",
      "Publications: \n",
      " * /chatter [std_msgs/String]\n",
      " * /rosout [rosgraph_msgs/Log]\n",
      "\n",
      "Subscriptions: None\n",
      "\n",
      "Services: \n",
      " * /franek/set_logger_level\n",
      " * /franek/get_loggers\n",
      "\n"
     ]
    }
   ],
   "source": [
    "import rosnode\n",
    "\n",
    "rosnode.get_node_names()\n"
   ]
  },
  {
   "cell_type": "markdown",
   "metadata": {},
   "source": [
    "\n",
    "\n",
    "You should see that there are already some nodes listed. Each is represented with its **graph resource name**. There are slashes at the beginning because you can actally have a whole hierarchy of nodes similar to how you have directories on your computer (something like that is common: robot1/vision_system/object_recogniser). \n",
    "\n",
    "So what is a ROS Node? Pretty much any program connected to a ROS Network. It can be on the same computer but it can also be connected via a network. Usually there are tens if not houndreds of such nodes.\n",
    "\n",
    "\n",
    "*(In case you see \"ERROR: Unable to communicate with master!\" you need to make sure that you have set up the correct address to ROS_MASTER_URI and there is roscore running there. Also, can you connect to this host at all? A good way to check is to use *ping* command i.e. ping igor-duzy. If there is a constant stream of responses, the computer is accessable. Othervise check the connection and firewall.)*"
   ]
  },
  {
   "cell_type": "markdown",
   "metadata": {},
   "source": [
    "### Our own node\n",
    "\n",
    "Ok, so lets create our own node. \n",
    "Two lines are needed. Change 'node_name' to something fancy -- it will be your node's graph resource name."
   ]
  },
  {
   "cell_type": "code",
   "execution_count": 5,
   "metadata": {
    "collapsed": true
   },
   "outputs": [],
   "source": [
    "import rospy\n",
    "\n",
    "rospy.init_node(\"node_name\", anonymous=True)"
   ]
  },
  {
   "cell_type": "markdown",
   "metadata": {},
   "source": [
    "And that's it :) \n",
    "\n",
    "We can check how our node was registered by using \n",
    "\n",
    "\n"
   ]
  },
  {
   "cell_type": "markdown",
   "metadata": {},
   "source": [
    "### Excercise: use **rosnode** to check info about your node\n",
    "\n",
    "Use the rosnode.get_node_names function to check if your node is there\n"
   ]
  },
  {
   "cell_type": "code",
   "execution_count": 64,
   "metadata": {},
   "outputs": [
    {
     "data": {
      "text/plain": [
       "['igor-laptop-linux']"
      ]
     },
     "execution_count": 64,
     "metadata": {},
     "output_type": "execute_result"
    }
   ],
   "source": []
  },
  {
   "cell_type": "markdown",
   "metadata": {},
   "source": [
    "You should see your selected name among other names. But why there is a string of numbers after? This is because I was a bit pesimistic as to whether your fancy names would not be the same -- and as the name has to unique the anonymous parameter passed to init_node function creates a name that would be unique. \n",
    "\n",
    "You can change this name to something unique but remember to restart the kernel before you run the init function again.\n",
    "\n",
    "#### Now use rosnode.get_node_info with your node name as an argument to see what ROS knows about your node\n",
    "When printing rosnode.get_node_info remember to put the name you have got, not the one you wanted.\n",
    "\n"
   ]
  },
  {
   "cell_type": "code",
   "execution_count": null,
   "metadata": {
    "collapsed": true
   },
   "outputs": [],
   "source": []
  },
  {
   "cell_type": "markdown",
   "metadata": {},
   "source": [
    "### Lets read what Ono robot has to say to us\n",
    "\n",
    "Ok, lets use another (like rosnode) console application to see what Ono has to say to us. In later excercices we will be be reading messages directely using python libraries but always remember that there is plenty of terminal and GUI programs to help you with prototyping and building ROS applications. ROS programmers usually have couple of terminal windows open, to see how different applications are running -- but we will keep things simple and use these console applications from Ipython.\n",
    "\n",
    "To check what Ono has prepared, lets read the list of *topics* that there are in our ROS Network. (You can also do this via terminal command *rostopic list*)"
   ]
  },
  {
   "cell_type": "code",
   "execution_count": 31,
   "metadata": {},
   "outputs": [
    {
     "name": "stdout",
     "output_type": "stream",
     "text": [
      "There is /rosout topic of rosgraph_msgs/Log message type\n",
      "There is /rosout_agg topic of rosgraph_msgs/Log message type\n"
     ]
    }
   ],
   "source": [
    "topics=rospy.get_published_topics()\n",
    "for topic in topics:\n",
    "    print(\"There is {} topic of {} message type\".format(topic[0],topic[1]))"
   ]
  },
  {
   "cell_type": "markdown",
   "metadata": {},
   "source": [
    "So there are many topics with different message types. There is for example this topic called /just_one. For now we just want to see the stream of messages so lets use rostopic terminal command to read the stream -- when you are finished use *interrupt kernel* button to stop the command running"
   ]
  },
  {
   "cell_type": "code",
   "execution_count": 40,
   "metadata": {
    "scrolled": true
   },
   "outputs": [
    {
     "name": "stdout",
     "output_type": "stream",
     "text": [
      "header: \n",
      "  seq: 3\n",
      "  stamp: \n",
      "    secs: 1501139182\n",
      "    nsecs: 841664314\n",
      "  frame_id: ''\n",
      "level: 4\n",
      "name: /node_name_6954_1501138996601\n",
      "msg: I am going to die\n",
      "file: <ipython-input-13-dadad8d0dd4d>\n",
      "function: <module>\n",
      "line: 2\n",
      "topics: ['/rosout']\n",
      "---\n",
      "^C\n"
     ]
    },
    {
     "name": "stderr",
     "output_type": "stream",
     "text": [
      "[WARN] [WallTime: 1501140383.947581] Inbound TCP/IP connection failed: connection from sender terminated before handshake header received. 0 bytes were received. Please check sender for additional details.\n"
     ]
    }
   ],
   "source": [
    "!rostopic echo /rosout"
   ]
  },
  {
   "cell_type": "markdown",
   "metadata": {},
   "source": [
    "As you can see, there is constant stream of ones on this topic, boring ...\n",
    "\n",
    "**Now try to read some secret topics from Ono**"
   ]
  },
  {
   "cell_type": "code",
   "execution_count": 5,
   "metadata": {
    "collapsed": true
   },
   "outputs": [],
   "source": [
    "import rosnode\n",
    "\n",
    "? rosnode.get_nodes_by_machine"
   ]
  }
 ],
 "metadata": {
  "kernelspec": {
   "display_name": "Python 3",
   "language": "python",
   "name": "python3"
  },
  "language_info": {
   "codemirror_mode": {
    "name": "ipython",
    "version": 3
   },
   "file_extension": ".py",
   "mimetype": "text/x-python",
   "name": "python",
   "nbconvert_exporter": "python",
   "pygments_lexer": "ipython3",
   "version": "3.4.3"
  }
 },
 "nbformat": 4,
 "nbformat_minor": 2
}
