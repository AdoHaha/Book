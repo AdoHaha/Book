{
 "cells": [
  {
   "cell_type": "markdown",
   "metadata": {},
   "source": [
    "## ROS concepts explained Topic, Service, Parameter\n",
    "\n",
    "Topic, Service and Parameter are the workhorses of ROS. Each simplifies some particular type of communication inside ROS so that your robots can do stuff efficientely.\n",
    "\n",
    "In short:\n",
    "**Topic** is used when we don't care who writes the message and who reads the message as long as it is on the right topic and of the right format (i.e. What is the **/temperature** outside, asks someone. It is 5 **degrees Celcius** answers someone) \n",
    "\n",
    "**Service** is a different format, where we ask for some calculation or action and receive response **in return**.\n",
    "I.e. (I ask Please switch off the light /intelligent_light and I receive response OK)\n",
    "Both command and response needs to be in a format that we agreed upon. Also, there can be only one agent with a particular service. \n",
    "\n",
    "**Parameter** is a common database of parameters that can be read or written to by ROS actors. Such parameters may be the hardware configuration, robot description or some other settings. Usually they are read by a node when inicializing\n"
   ]
  },
  {
   "cell_type": "markdown",
   "metadata": {},
   "source": [
    "### ROS Topic\n",
    "\n",
    "Let's start from ROS Topic. You have used this protocol to read secret Ono message. **rostopic** program was smart enough to read this message automaticly but normally we need to know what **message type** the topic has to read it. This is because the messages can be very different and actually have a whole structure inside. \n",
    "The message is **serialized** before being sent by **publisher** and than **deserialized** by **subscriber**. The whole process is done automaticly but we need to know the message type.\n",
    "\n",
    "Let's look again at the topics that are there. In the field below get the list of the topics with their message types in format [[topic_name,message_type],[... ]]"
   ]
  },
  {
   "cell_type": "code",
   "execution_count": 1,
   "metadata": {
    "collapsed": true
   },
   "outputs": [],
   "source": [
    "topics = ... # read the topics here\n",
    "print(topics)"
   ]
  },
  {
   "cell_type": "markdown",
   "metadata": {},
   "source": [
    "You can see that there is topic called /ono_joint_state. Let's read its  message stream using rostopic tool"
   ]
  },
  {
   "cell_type": "code",
   "execution_count": 6,
   "metadata": {
    "scrolled": true
   },
   "outputs": [
    {
     "name": "stdout",
     "output_type": "stream",
     "text": [
      "put your command here to read /ono_joint_state topic,\r\n",
      " interupt kernel when you finished\r\n"
     ]
    }
   ],
   "source": [
    "! echo \"put your command here to read /ono_joint_state topic,\\n interupt kernel when you finished\""
   ]
  },
  {
   "cell_type": "markdown",
   "metadata": {},
   "source": [
    "So this topic sends much more complicated messages. It uses one of common message types, caled joint_state. As robots have multiple parts, connected using joints it is usually good to know how these joints are set. This can be used for example, to visualize robot. The message has also a **header** that is a form of a timestamp that gives us information when the message was sent. This is usefull to, for example, use only the newest messages or even debug the communication if the header is strange or very old."
   ]
  },
  {
   "cell_type": "markdown",
   "metadata": {},
   "source": [
    "### Lets write our own publisher\n",
    "\n",
    "Ok, lets publish some messages"
   ]
  },
  {
   "cell_type": "code",
   "execution_count": 1,
   "metadata": {
    "collapsed": true
   },
   "outputs": [],
   "source": [
    "import rospy\n",
    "from std_msgs.msg import String\n",
    "\n",
    "#rospy... # initialize your node here! otherwise ROS will not know who and where your node is!\n",
    "rospy.init_node(\"franek\")"
   ]
  },
  {
   "cell_type": "code",
   "execution_count": 3,
   "metadata": {
    "collapsed": true
   },
   "outputs": [],
   "source": [
    "my_publisher=rospy.Publisher(\"chatter\",String,queue_size=10)"
   ]
  },
  {
   "cell_type": "markdown",
   "metadata": {},
   "source": [
    "Ok, now lets publish some info. For simple messages like String, we can send the message super- easly"
   ]
  },
  {
   "cell_type": "code",
   "execution_count": 9,
   "metadata": {
    "scrolled": true
   },
   "outputs": [
    {
     "name": "stdout",
     "output_type": "stream",
     "text": [
      "data: Fufu!\n",
      "data: Fufu!\n"
     ]
    }
   ],
   "source": [
    "my_publisher.publish(\"Fufu!\")"
   ]
  },
  {
   "cell_type": "markdown",
   "metadata": {},
   "source": [
    "Ok but how to read what we have sent? One way is to use *rostopic echo* command but you cannot do this from Ipython this time because it will only show you the messages sent after you have started the program. You can do this by opening a Ubuntu terminal, using the icon on the left ![Ubuntu terminal icon](images/terminal.png)\n",
    "or shortcut Ctrl+Alt+T. Than put the command \n",
    "\n",
    "```rostopic echo /chatter``` \n",
    "\n",
    "\n",
    "When you re-run the publish command in Ipython, you should see your message appearing in the terminal."
   ]
  },
  {
   "cell_type": "markdown",
   "metadata": {},
   "source": [
    "Ok, with rospublish command our node became a ros publisher.\n",
    "We can see that using rosnode.get_node_info. To see the whole graph structure right now we can use graphical tool called rqt_graph (you can also start it in a seperate terminal)"
   ]
  },
  {
   "cell_type": "code",
   "execution_count": 24,
   "metadata": {
    "collapsed": true
   },
   "outputs": [],
   "source": [
    "!rqt_graph"
   ]
  },
  {
   "cell_type": "markdown",
   "metadata": {
    "collapsed": true
   },
   "source": [
    "What you see after running this command is whole ROS network graph. You can see your own node, among others, publishing on the /chatter topic. This type of communication allows for multiple senders and receivers."
   ]
  },
  {
   "cell_type": "markdown",
   "metadata": {},
   "source": [
    "### Let's write a Subscriber\n",
    "\n",
    "Subscriber is an object that receives messages written to a particular topic. We want to receive all **calls** to our subscriber so we will register a **callback function** to do stuff when we receive a new message. The easiest thing we can do with a incomming message is to print it, so let's put a print function as our callback function.\n",
    "\n",
    "After running the code below, you can check that your subscriber is working by using your previously defined publisher. Try to publish something to a /chatter topic!\n"
   ]
  },
  {
   "cell_type": "code",
   "execution_count": 7,
   "metadata": {},
   "outputs": [],
   "source": [
    "cmy_subscriber = rospy.Subscriber(\"chatter\",String,print)"
   ]
  },
  {
   "cell_type": "markdown",
   "metadata": {},
   "source": [
    "As soon as you create a new subscriber, you will start receiving a stream of messages and you will start to see the incoming messages. In case of \"/chatter\" topic they are published by your and other publishers, but imagine that there is an automatic publisher publishing every couple of ms. This could become overwhelming!\n",
    "\n",
    "If you want to stop running the callback, use the unregister method\n"
   ]
  },
  {
   "cell_type": "code",
   "execution_count": 11,
   "metadata": {
    "collapsed": true
   },
   "outputs": [],
   "source": [
    "my_subscriber.unregister()"
   ]
  },
  {
   "cell_type": "markdown",
   "metadata": {},
   "source": [
    "### Excercise\n",
    "Before we tackle this problem, try to write your own callback function to do something with received message. For example, read /how_long_is_my_message topic and print the length of the string\n",
    "\n",
    "(Two tips: You can define a function using the normal \n",
    "def some_function_name(message):\n",
    "    the stuff you do\n",
    "\n",
    "and than pass the function _name_ as a callback so rospy.Subscriber(..., some_function_name)\n",
    "\n",
    "Tip no 2. Remember that the message is an object with a field data (message.data) that actually has the string itself\n"
   ]
  },
  {
   "cell_type": "code",
   "execution_count": null,
   "metadata": {
    "collapsed": true
   },
   "outputs": [],
   "source": [
    "def some_new_function(message):\n",
    "    #here do your magic\n",
    "    pass\n",
    "\n",
    "subscriber2= rospy.Subscriber ... # here create a subscriber that uses your function"
   ]
  },
  {
   "cell_type": "markdown",
   "metadata": {},
   "source": [
    "### Excercise \n",
    "\n",
    "Ok, nice! \n",
    "\n",
    "Now create a new publisher, to some choosen topic (you decide) and  use it to publish the length of received string. That is your new function will modify the incomming messages, something like\n",
    "\n",
    "/how_long_is_my_message -> | your node | -> /message_length\n",
    "\n",
    "Tip:\n",
    "Call the newly created publisher from inside the callback function. \n",
    "\n",
    "\n"
   ]
  },
  {
   "cell_type": "code",
   "execution_count": null,
   "metadata": {
    "collapsed": true
   },
   "outputs": [],
   "source": [
    "publisher= ... #here create a publisher to the new topic\n",
    "\n",
    "def receive_and_modify(message): #here \n",
    "    pass\n",
    "\n",
    "\n",
    "new_subscriber=..."
   ]
  },
  {
   "cell_type": "markdown",
   "metadata": {},
   "source": [
    "Super nice! What you did is a common strategy used in ROS. Instead of one program that does all the computations, each node takes some messages from different topics and publishes your own. You connect them together and have a computation structure to, for example do robot localisation. \n",
    "\n"
   ]
  },
  {
   "cell_type": "markdown",
   "metadata": {},
   "source": [
    "### ROS  Service\n",
    "\n",
    "Services are a common way to ask for some data/ calculation or change a state of the robot. \n",
    "\n",
    "Similar to ROS topic, both actors need to know the format of message. There will be actually two formats, format of question and format of the answer. \n",
    "\n",
    "Let's see how such format looks"
   ]
  },
  {
   "cell_type": "code",
   "execution_count": 14,
   "metadata": {
    "scrolled": true
   },
   "outputs": [
    {
     "name": "stdout",
     "output_type": "stream",
     "text": [
      "bool data\r\n",
      "---\r\n",
      "bool success\r\n",
      "string message\r\n",
      "\r\n"
     ]
    }
   ],
   "source": [
    "!rossrv show std_srvs/SetBool"
   ]
  },
  {
   "cell_type": "markdown",
   "metadata": {},
   "source": [
    "What you can see is that for a question sent as a boolean data (True/False) \n",
    "the service will respond with a boolean response as well as a message for us.\n",
    "\n",
    "Ono has a big diode, we will try to switch it on. To do this, we will use a **proxy function**, that is we will define something that uses the service but from our perspective looks like a normal function that _returns_ some value. Try running this function couple of times. "
   ]
  },
  {
   "cell_type": "code",
   "execution_count": null,
   "metadata": {
    "collapsed": true
   },
   "outputs": [],
   "source": []
  },
  {
   "cell_type": "markdown",
   "metadata": {},
   "source": [
    "As we can see, sometimes we suceed in setting up the diode, sometimes we fail, and ono explains why. This is a common scenario in robotics that things can go wrong and we have a choice of re running something or trying something else.\n",
    "\n",
    "To write our own service, we use\n",
    "\n",
    "\n"
   ]
  },
  {
   "cell_type": "markdown",
   "metadata": {},
   "source": [
    "### ROS Param\n",
    "\n",
    "The last (common) way of communication between nodes is ROS Param. \n",
    "\n",
    "All nodes have access to a common _dictionary_ like structure, from which they can read and write parameters.\n",
    "\n",
    "The typical scenario is that we write some setup parameters to ROS Parameter server instead than just to start a program with command line arguments. Other is to put elements that are used by multiple programs such as URDF robot models\n",
    "\n",
    "Think of ROS Param as a place to put settings and common data of your ROS network. \n",
    "\n",
    "Using ROS Parameter is done via rosparam module"
   ]
  },
  {
   "cell_type": "code",
   "execution_count": 19,
   "metadata": {
    "scrolled": true
   },
   "outputs": [
    {
     "data": {
      "text/plain": [
       "['/rosdistro',\n",
       " '/roslaunch/uris/host_igor_laptop_linux__57314',\n",
       " '/rosversion',\n",
       " '/run_id']"
      ]
     },
     "execution_count": 19,
     "metadata": {},
     "output_type": "execute_result"
    }
   ],
   "source": [
    "import rosparam\n",
    "\n",
    "rosparam.list_params(\"/\")"
   ]
  },
  {
   "cell_type": "code",
   "execution_count": null,
   "metadata": {
    "collapsed": true
   },
   "outputs": [],
   "source": []
  }
 ],
 "metadata": {
  "kernelspec": {
   "display_name": "Python 3",
   "language": "python",
   "name": "python3"
  },
  "language_info": {
   "codemirror_mode": {
    "name": "ipython",
    "version": 3
   },
   "file_extension": ".py",
   "mimetype": "text/x-python",
   "name": "python",
   "nbconvert_exporter": "python",
   "pygments_lexer": "ipython3",
   "version": "3.4.3"
  }
 },
 "nbformat": 4,
 "nbformat_minor": 2
}
