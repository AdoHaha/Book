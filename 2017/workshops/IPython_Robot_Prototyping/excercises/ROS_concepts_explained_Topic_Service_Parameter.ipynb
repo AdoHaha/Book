{
 "cells": [
  {
   "cell_type": "markdown",
   "metadata": {},
   "source": [
    "## ROS concepts explained Topic, Service, Parameter\n",
    "\n",
    "Topic, Service and Parameter are the workhorses of ROS. Each simplifies some particular type of communication inside ROS so that your robots can do stuff efficientely.\n",
    "\n",
    "In short:\n",
    "**Topic** is used when we don't care who writes the message and who reads the message as long as it is on the right topic and of the right format (i.e. What is the **/temperature** outside, asks someone. It is 5 **degrees Celcius** answers someone) \n",
    "\n",
    "**Service** is a different format, where we ask for some calculation or action and receive response **in return**.\n",
    "I.e. (I ask Please switch off the light /intelligent_light and I receive response OK)\n",
    "Both command and response needs to be in a format that we agreed upon. Also, there can be only one agent with a particular service. \n",
    "\n",
    "**Parameter** is a common database of parameters that can be read or written to by ROS actors. Such parameters may be the hardware configuration, robot description or some other settings. Usually they are read by a node when inicializing\n"
   ]
  },
  {
   "cell_type": "markdown",
   "metadata": {},
   "source": [
    "### ROS Topic\n",
    "\n",
    "Let's start from ROS Topic. You have used this protocol to read secret Ono message. **rostopic** program was smart enough to read this message automaticly but normally we need to know what **message type** the topic has to read it. This is because the messages can be very different and actually have a whole structure inside. \n",
    "The message is **serialized** before being sent by **publisher** and than **deserialized** by **subscriber**. The whole process is done automaticly but we need to know the message type.\n",
    "\n",
    "Let's look again at the topics that are there. In the field below get the list of the topics with their message types in format [[topic_name,message_type],[... ]]"
   ]
  },
  {
   "cell_type": "code",
   "execution_count": 1,
   "metadata": {
    "collapsed": true
   },
   "outputs": [],
   "source": [
    "topics = ... # read the topics here\n",
    "print(topics)"
   ]
  },
  {
   "cell_type": "markdown",
   "metadata": {},
   "source": [
    "You can see that there is topic called /ono_joint_state. Let's read its  message stream using rostopic tool"
   ]
  },
  {
   "cell_type": "code",
   "execution_count": 6,
   "metadata": {
    "scrolled": true
   },
   "outputs": [
    {
     "name": "stdout",
     "output_type": "stream",
     "text": [
      "put your command here to read /ono_joint_state topic,\r\n",
      " interupt kernel when you finished\r\n"
     ]
    }
   ],
   "source": [
    "! echo \"put your command here to read /ono_joint_state topic,\\n interupt kernel when you finished\""
   ]
  },
  {
   "cell_type": "markdown",
   "metadata": {},
   "source": [
    "So this topic sends much more complicated messages. It uses one of common message types, caled joint_state. As robots have multiple parts, connected using joints it is usually good to know how these joints are set. This can be used for example, to visualize robot. The message has also a **header** that is a form of a timestamp that gives us information when the message was sent. This is usefull to, for example, use only the newest messages or even debug the communication if the header is strange or very old."
   ]
  },
  {
   "cell_type": "markdown",
   "metadata": {},
   "source": [
    "### Lets write our own publisher\n",
    "\n",
    "Ok, lets publish some messages"
   ]
  },
  {
   "cell_type": "code",
   "execution_count": 15,
   "metadata": {},
   "outputs": [],
   "source": [
    "import rospy\n",
    "from std_msgs.msg import String\n",
    "\n",
    "#rospy... # initialize your node here! otherwise ROS will not know who and where your node is!\n",
    "rospy.init_node(\"franek\")"
   ]
  },
  {
   "cell_type": "code",
   "execution_count": 16,
   "metadata": {},
   "outputs": [],
   "source": [
    "my_publisher=rospy.Publisher(\"chatter\",String,queue_size=10)"
   ]
  },
  {
   "cell_type": "markdown",
   "metadata": {},
   "source": [
    "Ok, now lets publish some info. For simple messages like String, we can send the message super- easly"
   ]
  },
  {
   "cell_type": "code",
   "execution_count": 17,
   "metadata": {
    "scrolled": true
   },
   "outputs": [],
   "source": [
    "my_publisher.publish(\"Type your message here!\")"
   ]
  },
  {
   "cell_type": "markdown",
   "metadata": {},
   "source": [
    "Ok but how to read what we have sent? One way is to use *rostopic echo* command but you cannot do this from Ipython this time because it will only show you the messages sent after you have started the program. You can do this by opening a Ubuntu terminal, using the icon on the left ![Ubuntu terminal icon](images/terminal.png)\n",
    "or shortcut Ctrl+Alt+T. Than put the command \n",
    "\n",
    "```rostopic echo /chatter``` \n",
    "\n",
    "\n",
    "When you re-run the publish command in Ipython, you should see your message appearing in the terminal."
   ]
  },
  {
   "cell_type": "markdown",
   "metadata": {},
   "source": [
    "Ok, with rospublish command our node became a ros publisher.\n",
    "We can see that using rosnode.get_node_info. To see the whole graph structure right now we can use graphical tool called rqt_graph (you can also start it in a seperate terminal)"
   ]
  },
  {
   "cell_type": "code",
   "execution_count": 24,
   "metadata": {},
   "outputs": [],
   "source": [
    "!rqt_graph"
   ]
  },
  {
   "cell_type": "code",
   "execution_count": null,
   "metadata": {
    "collapsed": true
   },
   "outputs": [],
   "source": []
  }
 ],
 "metadata": {
  "kernelspec": {
   "display_name": "Python 3",
   "language": "python",
   "name": "python3"
  },
  "language_info": {
   "codemirror_mode": {
    "name": "ipython",
    "version": 3
   },
   "file_extension": ".py",
   "mimetype": "text/x-python",
   "name": "python",
   "nbconvert_exporter": "python",
   "pygments_lexer": "ipython3",
   "version": "3.4.3"
  }
 },
 "nbformat": 4,
 "nbformat_minor": 2
}
