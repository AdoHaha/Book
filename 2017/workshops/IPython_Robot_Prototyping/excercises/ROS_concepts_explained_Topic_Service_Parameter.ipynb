{
 "cells": [
  {
   "cell_type": "markdown",
   "metadata": {},
   "source": [
    "### ROS concepts explained Topic, Service, Parameter\n",
    "\n",
    "Topic, Service and Parameter are the workhorses of ROS. Each simplifies some particular type of communication inside ROS so that your robots can do stuff efficientely.\n",
    "\n",
    "In short:\n",
    "**Topic** is used when we don't care who writes the message and who reads the message as long as it is on the right topic and of the right format (i.e. What is the **/temperature** outside, asks someone. It is 5 **degrees Celcius** outside answers someone) \n",
    "\n",
    "**Service** is a different format, where we ask for some calculation or action and receive response **in return**.\n",
    "I.e. (I ask Please switch off the light /intelligent_light and I receive response OK)\n",
    "Both command and response needs to be in a format that we agreed upon. Also, there can be only one agent with a particular service. \n",
    "\n",
    "**Parameter** is a common database of parameters that can be read or written to by ROS actors. Such parameters may be the hardware configuration, \n"
   ]
  }
 ],
 "metadata": {
  "kernelspec": {
   "display_name": "Python 3",
   "language": "python",
   "name": "python3"
  },
  "language_info": {
   "codemirror_mode": {
    "name": "ipython",
    "version": 3
   },
   "file_extension": ".py",
   "mimetype": "text/x-python",
   "name": "python",
   "nbconvert_exporter": "python",
   "pygments_lexer": "ipython3",
   "version": "3.4.3"
  }
 },
 "nbformat": 4,
 "nbformat_minor": 2
}
